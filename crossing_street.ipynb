{
 "cells": [
  {
   "cell_type": "code",
   "execution_count": null,
   "metadata": {},
   "outputs": [
    {
     "name": "stdout",
     "output_type": "stream",
     "text": [
      "Stop.\n",
      "Go.\n",
      "Slow down.\n"
     ]
    },
    {
     "data": {
      "text/plain": [
       "{'sid': '0', 'id': 'sid-0', '$s': 1}"
      ]
     },
     "execution_count": 1,
     "metadata": {},
     "output_type": "execute_result"
    }
   ],
   "source": [
    "# %%\n",
    "\n",
    "from durable.lang import *\n",
    "\n",
    "with ruleset(\"crossing_street\"):\n",
    "\n",
    "    @when_all(m.color == \"green\")\n",
    "    def green_light(c):\n",
    "        print(\"Go.\")\n",
    "\n",
    "    # yellow light?\n",
    "    @when_all(m.color == \"yellow\")\n",
    "    def yellow_light(c):\n",
    "        print(\"Slow down.\")\n",
    "\n",
    "    # red light? \n",
    "    @when_all(m.color == \"red\")\n",
    "    def red_light(c):\n",
    "        print(\"Stop.\")\n",
    "\n",
    "post(\"crossing_street\", {\"color\": \"red\"})\n",
    "post(\"crossing_street\", {\"color\": \"green\"})\n",
    "post(\"crossing_street\", {\"color\": \"yellow\"})"
   ]
  }
 ],
 "metadata": {
  "language_info": {
   "codemirror_mode": {
    "name": "ipython",
    "version": 3
   },
   "file_extension": ".py",
   "mimetype": "text/x-python",
   "name": "python",
   "nbconvert_exporter": "python",
   "pygments_lexer": "ipython3",
   "version": 3
  }
 },
 "nbformat": 4,
 "nbformat_minor": 2
}
